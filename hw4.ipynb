{
 "cells": [
  {
   "cell_type": "markdown",
   "metadata": {
    "id": "eNeWF0uED8J2"
   },
   "source": [
    "# HW4: Large Language Models\n",
    "\n",
    "In this assignment, you will be implementing language models for next token prediction and generation of Shakespeare! This assignment will be in two parts. **For this final assignment, you have the option to work in pairs.**\n",
    "\n",
    "**Part 1:**\n",
    "\n",
    "In this part, you will review some key ingredients of sequence modeling. In the process, you will build a baseline transformer model for next token prediction trained on Shakespeare's works. We have provided the scaffoldin for the code in this part of the assignment, and your task will be to fill in the key implementation steps.\n",
    "\n",
    "**Part 2:**\n",
    "\n",
    "This part is an open-ended mini-project where you have the freedom to try sequence modeling approaches of your choice on this problem. You should feel free to try other architectures (HMMs, RNNs, transformers, state space layers, diffusion models etc.) or to invent new architectures. You may also experiment with new algorithms for fitting or training these models. The goal will be to find some area of possible improvement (we interpret \"improvement\" quite loosely, but it is up to you to state precisely why your proposed innovation might constitute an improvement and to show convincing evidence that your innovation does or does not); to formulate and state a precise hypothesis; and to falsify or support the hypothesis with rigorous empirical analyses.\n",
    "\n",
    "**Deliverables:**\n",
    "\n",
    "- Code for Parts 1 of the assignment\n",
    "- A written report of at most 4 pages for Part 2 (references not included in the page limit), with a link to code for Part 2. \n",
    "\n",
    "_Note: the code for Part 2 will not be graded, but we ask you to include a link to it for completeness._\n",
    "\n",
    "**Important: Choosing runtimes**\n",
    "\n",
    "Google Colab has limits on the free usage of GPU runtimes. For this assignment, **we strongly recommend doing the majority of your prototyping, testing, and small-scale experiments on CPU backend**. Then, once you are ready to train your models, you should switch to a T4 GPU.\n",
    "\n",
    "You can change runtime type by clicking **Runtime -> Change Runtime Type** in the tabs above. You can monitor your resource usages in the top right corner of the screen (it should say what backend you are using, how many compute units per hour you are using, etc.)\n",
    "\n",
    "**Make sure to turn off GPU runtime if you are not actively using it!**\n",
    "\n",
    "\n",
    "\n",
    "\n"
   ]
  },
  {
   "cell_type": "markdown",
   "metadata": {
    "id": "qZ-AwbZ4ySCJ"
   },
   "source": [
    "## Setup"
   ]
  },
  {
   "cell_type": "code",
   "execution_count": 1,
   "metadata": {
    "id": "_5IXGh6OOBZV"
   },
   "outputs": [
    {
     "name": "stderr",
     "output_type": "stream",
     "text": [
      "/Users/liuzehan/miniconda3/lib/python3.11/site-packages/torch/utils/_pytree.py:185: FutureWarning: optree is installed but the version is too old to support PyTorch Dynamo in C++ pytree. C++ pytree support is disabled. Please consider upgrading optree using `python3 -m pip install --upgrade 'optree>=0.13.0'`.\n",
      "  warnings.warn(\n"
     ]
    }
   ],
   "source": [
    "# torch imports\n",
    "import torch\n",
    "import torch.nn as nn\n",
    "import torch.nn.functional as F\n",
    "import torch.optim as optim\n",
    "\n",
    "import matplotlib.pyplot as plt\n",
    "from tqdm import tqdm\n",
    "\n",
    "import requests\n",
    "import os\n",
    "\n",
    "torch.manual_seed(305)\n",
    "\n",
    "device = 'cuda' if torch.cuda.is_available() else 'mps'"
   ]
  },
  {
   "cell_type": "markdown",
   "metadata": {
    "id": "fsgHl9JCuGBS"
   },
   "source": [
    "We set default values for some global hyperparameters, but feel free to change these during development as needed."
   ]
  },
  {
   "cell_type": "code",
   "execution_count": 2,
   "metadata": {
    "id": "A_Z5Jh74DH_E"
   },
   "outputs": [],
   "source": [
    "# Global hyperparameters\n",
    "SMALL_ITERS = 1000\n",
    "LARGE_ITERS = 2000\n",
    "EVAL_ITERS = 100\n",
    "CONTEXT_WINDOW_SIZE = 256"
   ]
  },
  {
   "cell_type": "markdown",
   "metadata": {
    "id": "lF6dgHnhOprg"
   },
   "source": [
    "## Part 0: Preprocessing\n",
    "\n",
    "As in the previous problem sets, a certain amount of preprocessing for textual data is required."
   ]
  },
  {
   "cell_type": "markdown",
   "metadata": {
    "id": "WF0_bhXNOxeS"
   },
   "source": [
    "### 0.1: Loading and preprocessing the dataset\n",
    "\n",
    "\n",
    "The first step is to download the dataset. We will be using a dataset from Andrej Karpathy consisting of a subset of works from Shakespeare.\n",
    "\n",
    "The dominant mode for preprocessing textual data is to tokenize it; that is, to split the dataset into a finite vocabulary of tokens. Then, we can set up a dictionaries mapping from counting numbers (representing tokens) to tokens and vice versa. Tokens can be characters, or words, or subwords; in fact, the \"best\" way to tokenize text is an active area of research.\n",
    "\n",
    "To keep things simple, we'll tokenize the text on a per-character level."
   ]
  },
  {
   "cell_type": "code",
   "execution_count": 3,
   "metadata": {
    "id": "53dGz7ExDkUv"
   },
   "outputs": [
    {
     "name": "stdout",
     "output_type": "stream",
     "text": [
      "length of dataset in characters: 1,115,394\n"
     ]
    }
   ],
   "source": [
    "# download the tiny shakespeare dataset\n",
    "input_file_path = 'finetuning_text.txt'\n",
    "\n",
    "if not os.path.exists(input_file_path):\n",
    "    data_url = 'https://raw.githubusercontent.com/karpathy/char-rnn/master/data/tinyshakespeare/input.txt'\n",
    "    with open(input_file_path, 'w') as f:\n",
    "        f.write(requests.get(data_url).text)\n",
    "\n",
    "with open(input_file_path, 'r') as f:\n",
    "    data = f.read()\n",
    "print(f\"length of dataset in characters: {len(data):,}\")"
   ]
  },
  {
   "cell_type": "code",
   "execution_count": 4,
   "metadata": {
    "id": "b2HuC2F9p_4K"
   },
   "outputs": [
    {
     "name": "stdout",
     "output_type": "stream",
     "text": [
      "all the unique characters: \n",
      " !$&',-.3:;?ABCDEFGHIJKLMNOPQRSTUVWXYZabcdefghijklmnopqrstuvwxyz\n",
      "vocab size: 65\n"
     ]
    }
   ],
   "source": [
    "# get all the unique characters that occur in this text\n",
    "chars = sorted(list(set(data)))\n",
    "vocab_size = len(chars)\n",
    "print(\"all the unique characters:\", ''.join(chars))\n",
    "print(f\"vocab size: {vocab_size:,}\")"
   ]
  },
  {
   "cell_type": "code",
   "execution_count": 5,
   "metadata": {
    "id": "JEWx5jnKqDzT"
   },
   "outputs": [
    {
     "name": "stdout",
     "output_type": "stream",
     "text": [
      "train has 1,003,854 tokens\n",
      "val has 111,540 tokens\n"
     ]
    }
   ],
   "source": [
    "# create a mapping from characters to integers\n",
    "stoi = { ch:i for i,ch in enumerate(chars) }\n",
    "itos = { i:ch for i,ch in enumerate(chars) }\n",
    "\n",
    "def encode(s):\n",
    "    return [stoi[c] for c in s] # encoder: take a string, output a list of integers\n",
    "def decode(l):\n",
    "    return ''.join([itos[i] for i in l]) # decoder: take a list of integers, output a string\n",
    "\n",
    "# create the train and test splits\n",
    "n = len(data)\n",
    "train_chars = data[:int(n*0.9)]\n",
    "val_chars = data[int(n*0.9):]\n",
    "\n",
    "# encode both to integers\n",
    "train_data = encode(train_chars)\n",
    "val_data = encode(val_chars)\n",
    "\n",
    "# cast as torch tensors\n",
    "train_data = torch.tensor(train_data)\n",
    "val_data = torch.tensor(val_data)\n",
    "\n",
    "print(f\"train has {len(train_data):,} tokens\")\n",
    "print(f\"val has {len(val_data):,} tokens\")"
   ]
  },
  {
   "cell_type": "markdown",
   "metadata": {
    "id": "nsOs0_diEcjY"
   },
   "source": [
    "We also write helper functions to get batches of data and to evaluate the loss of various models on them."
   ]
  },
  {
   "cell_type": "code",
   "execution_count": 6,
   "metadata": {
    "id": "AkAD0PfiEfjG"
   },
   "outputs": [],
   "source": [
    "# function for getting batches of data\n",
    "def get_batch(split, context_window_size, device, batch_size=32):\n",
    "    \"\"\"\n",
    "    generate a small batch of data of inputs x and targets y\n",
    "\n",
    "    Args:\n",
    "        split: 'train' or 'val'\n",
    "        device: 'cpu' or 'cuda' (should be 'cuda' if available)\n",
    "    \"\"\"\n",
    "    data = train_data if split == 'train' else val_data\n",
    "    #all valid context window starting idx\n",
    "    ix = torch.randint(len(data) - context_window_size, (batch_size,))\n",
    "    x = torch.stack([data[i:i+context_window_size] for i in ix])\n",
    "    y = torch.stack([data[i+1:i+context_window_size+1] for i in ix])\n",
    "    x = x.to(device)\n",
    "    y = y.to(device)\n",
    "    return x, y\n",
    "\n",
    "# helper function for tracking loss during training\n",
    "# given to you\n",
    "@torch.no_grad()\n",
    "def estimate_loss(model, eval_iters, context_window_size, device):\n",
    "    \"\"\"\n",
    "    Args:\n",
    "      model: model being evaluated\n",
    "      eval_iters: number of batches to average over\n",
    "      context_window_size: size of the context window\n",
    "      device: 'cpu' or 'cuda' (should be 'cuda' if available)\n",
    "    \"\"\"\n",
    "    out = {}\n",
    "    for split in ['train', 'val']:\n",
    "        losses = torch.zeros(eval_iters)\n",
    "        for k in range(eval_iters):\n",
    "            X, Y = get_batch(split, context_window_size, device)\n",
    "            logits, loss = model(X, Y)\n",
    "            losses[k] = loss.item()\n",
    "        out[split] = losses.mean()\n",
    "    return out"
   ]
  },
  {
   "cell_type": "markdown",
   "metadata": {
    "id": "ercCUt_d07FX"
   },
   "source": [
    "## Part 1: Language Modeling\n",
    "\n",
    "In this first part of the assignment, we will implement a baseline for code modeling.\n",
    "\n",
    "In the process of building this baseline, we will review 4 key ideas of sequence modeling that have become the backbone of modern language models such as ChatGPT:\n",
    "\n",
    "1. Framing language modeling as next token prediction, and next token prediction as multiclass logistic regression\n",
    "2. Embedding discrete tokens in continuous latent spaces (word embeddings)\n",
    "3. Use the attention mechanism to move beyond Markovian models for sequences (we of course pay for this greater expressivity with increased compute, which is made possible in part by using matrix multiplications on hardware accelerators like GPUs. Reducing the compute burden while maintaining the expressivity needed for good sequence modeling is an active area of research).\n",
    "4. Combining attention with deep learning in the Transformer architecture."
   ]
  },
  {
   "cell_type": "markdown",
   "metadata": {
    "id": "kh1kX0pw1bR2"
   },
   "source": [
    "### 1.1: Next token prediction as multiclass logistic regression\n",
    "\n",
    "Our first language model will simply be a lookup table. That is, given that we have token with value $v$, we will simply \"look up\" the logits that correspond to our prediction for the next token. This model is often known as a \"bigram model\" because it can be derived from the relative proportions of different bigrams (ordered pairs of tokens) occurring in a large text corpus.\n",
    "\n",
    "Let us be a bit more precise in our definition of the bigram model. Let's say that the total size of our vocabulary (the number of tokens we are using) is $V$. Let $A$ be a matrix in $\\mathbb{R}^{V \\times V}$, where each row $A_v$ corresponds to the logits for the prediction of which token would follow a token that has value $v$.\n",
    "Thus, we are modeling the distribution of the token following a token that has value $v$ as\n",
    "\\begin{align*}\n",
    "y_{t+1} \\mid y_t &= v \\sim \\mathrm{Cat}(\\mathbf{\\pi}) \\\\\n",
    "\\pi &=\\mathrm{softmax}(A_v)\n",
    "\\end{align*}"
   ]
  },
  {
   "cell_type": "markdown",
   "metadata": {
    "id": "5kNWISNQ9bbH"
   },
   "source": [
    "#### Question 1.1.1\n",
    "\n",
    "$\\mathbf{\\pi} \\in \\Delta_{V-1}$ is the vector of probabilities used to parameterize the categorical distribution for the next token prediction. Explain why we parameterize\n",
    "\\begin{equation*}\n",
    "  \\mathbf{\\pi} = \\mathrm{softmax}(A_v),\n",
    "\\end{equation*}\n",
    "and could not just use\n",
    "\\begin{equation*}\n",
    "  \\mathbf{\\pi} = A_v.\n",
    "\\end{equation*}"
   ]
  },
  {
   "cell_type": "markdown",
   "metadata": {
    "id": "nkHP8-T3zJ3D"
   },
   "source": [
    "---\n",
    "\n",
    "<span style=\"color:red; font-size:16px;\">Softmax ensures that the total probability sums up to one as it should (logits doesn't guarantee this)</span>\n",
    "\n",
    "---"
   ]
  },
  {
   "cell_type": "markdown",
   "metadata": {
    "id": "DtAjylIF-SwQ"
   },
   "source": [
    "#### Question 1.1.2\n",
    "\n",
    "Discuss the relationship between the bigram model and contigency tables (discussed in Lecture 1)."
   ]
  },
  {
   "cell_type": "markdown",
   "metadata": {
    "id": "ehdR52pnzZHl"
   },
   "source": [
    "---\n",
    "\n",
    "<span style=\"color:red; font-size:16px;\">\n",
    "    \n",
    "A bigram model is a statistical model of natural language where the probability distribution of next word is determined solely by the current word, while a contigency table C is a $V*V$ matrix where $C_{i,j}$ is the total occurrence of character i as the next character of j in the entire training set. Therefore, with contigency table, we have all the informatio needed to build a bigram model: say the current character is x, and the probability of next character being y as specified by a bigram model is  $ P(y|x) = \\frac{C_{y,x}}{\\sum_{i=1}^{V} C_{i,x}}$\n",
    "\n",
    "</span>\n",
    "\n",
    "---"
   ]
  },
  {
   "cell_type": "markdown",
   "metadata": {
    "id": "y4AzpB8M-u9o"
   },
   "source": [
    "#### Question 1.1.3\n",
    "\n",
    "Say I have a string of three tokens with ids $(7, 3, 6)$. If I use the bigram model as a generative model for language, given this information, what is distribution of the fourth token? Write your answer in terms of the matrix $A$ we defined in 1.1"
   ]
  },
  {
   "cell_type": "markdown",
   "metadata": {
    "id": "fs4rWYjlzc7n"
   },
   "source": [
    "---\n",
    "\n",
    "<span style=\"color:red; font-size:16px;\">\n",
    "    \n",
    "Probability distribution for the 4-th token would be $P = softmax(A_{6})$, where $P$ is a V by 1 vector where i-th value is the probability of i-th token as the next token in sequence\n",
    "\n",
    "</span>\n",
    "\n",
    "---"
   ]
  },
  {
   "cell_type": "markdown",
   "metadata": {
    "id": "leN9gUxoEuhg"
   },
   "source": [
    "#### Question 1.1.4\n",
    "\n",
    "Remember back in Part 0 when we gave you the helper function `get_batch`? Run `get_batch` and look at the inputs `x` and the targets `y`. Explain any relation between them in the context of formulating language modeling in the context of next token prediction."
   ]
  },
  {
   "cell_type": "code",
   "execution_count": 7,
   "metadata": {
    "id": "rzLupp2jExDS"
   },
   "outputs": [
    {
     "name": "stdout",
     "output_type": "stream",
     "text": [
      "the features have token ids tensor([[47, 53, 59, 57,  1, 50, 53, 60, 43,  6]], device='mps:0')\n",
      "\n",
      "\n",
      "the targets have token ids tensor([[53, 59, 57,  1, 50, 53, 60, 43,  6,  0]], device='mps:0')\n"
     ]
    }
   ],
   "source": [
    "xb, yb = get_batch('train', 10, device, batch_size = 1)\n",
    "print(f\"the features have token ids {xb}\")\n",
    "print('\\n')\n",
    "print(f\"the targets have token ids {yb}\")"
   ]
  },
  {
   "cell_type": "markdown",
   "metadata": {
    "id": "5hMuPAmcuGBV"
   },
   "source": [
    "---\n",
    "\n",
    "<span style=\"color:red; font-size:16px;\">\n",
    "\n",
    "y is the 1-shifted sequence of x: i.e. y[i] is the next token of x[i]. This representation allows y to be treated as the label to be predicted, while x works as the input\n",
    "    \n",
    "</span>\n",
    "\n",
    "---"
   ]
  },
  {
   "cell_type": "markdown",
   "metadata": {
    "id": "UyYl8QQt_Uhb"
   },
   "source": [
    "#### Question 1.1.5\n",
    "\n",
    "Discuss the strengths and weaknesses of the bigram model as a generative model for language."
   ]
  },
  {
   "cell_type": "markdown",
   "metadata": {
    "id": "7t6Hc2dhzdzL"
   },
   "source": [
    "---\n",
    "\n",
    "<span style=\"color:red; font-size:16px;\">\n",
    "\n",
    "Bigram model is simple, intuitive and very easy to train (only requires filling out the contigency matrix in training data). However in reality, language is very context-dependent and the prediction of next word hardly only depends on only the previous words, so bigram is just way oversimplified in this sense\n",
    "    \n",
    "</span>\n",
    "\n",
    "---"
   ]
  },
  {
   "cell_type": "markdown",
   "metadata": {
    "id": "mjYO1XTM_8NE"
   },
   "source": [
    "#### Question 1.1.6\n",
    "\n",
    "Say I have a string $s$ of length $T$. Derive the formula for the negative log likelihood of $s$ under the bigram model in terms of the matrix of logits $A$. What would your answer be if the matrix of logits $A$ were all zeros? What would be the value of the negative log likelihood of $s$ under a model that always perfectly predicted the next token?"
   ]
  },
  {
   "cell_type": "markdown",
   "metadata": {
    "id": "QuzLfI4Pzes6"
   },
   "source": [
    "---\n",
    "\n",
    "<span style=\"color:red; font-size:16px;\">\n",
    "Full likelihood = $\\prod_{t=1}^{T} softmax(A_{s_t, s_{t+1}})$, where $s_t$ is the next character for the t-th character in the sequence. \n",
    "\n",
    "Hence the negative log likelihood NLL = $-\\sum_{t = 1}^{T} log(softmax(A_{s_t, s_{t+1}})) = - \\sum_{t = 1}^{T} (A_{s_t, s_{t+1}} - log\\sum_{v=1}^{V} exp(A_{s_t,v}))$.\n",
    "    \n",
    "If matrix of logits A were all zeros, NLL = $T*logV$. \n",
    "    \n",
    "If a model always predicts perfectly the next token, every $softmax(A_{s_t, s_{t+1}}) = 1$ for each pair of $(s_t, s_{t+1})$. Hence the overall NLL will be 0\n",
    "\n",
    "</span>\n",
    "\n",
    "\n",
    "---"
   ]
  },
  {
   "cell_type": "markdown",
   "metadata": {
    "id": "rfzoXAATAfwn"
   },
   "source": [
    "#### Question 1.1.7: Implement the BigramLanguageModel\n",
    "\n",
    "Implement the bigram language model below.\n",
    "\n",
    "Your TODOs:\n",
    "  * if the `forward` method is provided a target, the loss should be the negative log likelihood of the target (given the context)\n",
    "  * `generate` should take in (batched) contexts and a number of new tokens to generate, and then generate text autoregressively from your model. Note that in autoregressive text generation, you iteratively append the tokens you generate to your context.\n"
   ]
  },
  {
   "cell_type": "code",
   "execution_count": 8,
   "metadata": {
    "id": "_lJ1mR4K1aj_"
   },
   "outputs": [],
   "source": [
    "import torch.nn.functional as F\n",
    "\n",
    "class BigramLanguageModel(nn.Module):\n",
    "\n",
    "    def __init__(self, vocab_size):\n",
    "        \"\"\"\n",
    "        Args:\n",
    "          vocab_size: size of the vocabulary (the number of tokens)\n",
    "        \"\"\"\n",
    "        super().__init__()\n",
    "        # each token directly reads off the logits for the next token from a lookup table\n",
    "        self.logits_table = nn.Embedding(vocab_size, vocab_size)\n",
    "        self.vocab_size = vocab_size\n",
    "\n",
    "\n",
    "    def forward(self, token_ids, targets=None):\n",
    "        \"\"\"\n",
    "        Args:\n",
    "          token_ids: Int(B, T), token ids that make up the context (batch has size B, each entry in the batch has length T)\n",
    "          targets: Int(B, T), token ids corresponding to the target of each context in token_ids\n",
    "\n",
    "        Returns:\n",
    "          logits: (B, T, V), logits[b,t, :] gives the length V vector of logits for the next token prediction in string b up to t tokens\n",
    "          loss: scalar, negative log likelihood of target given context\n",
    "        \"\"\"\n",
    "\n",
    "        # idx and targets are both (B,T) tensor of integers\n",
    "        # Q: How is this logits obtained??\n",
    "        logits = self.logits_table(token_ids) # (B,T,V)\n",
    "\n",
    "        if targets is None:\n",
    "            loss = None\n",
    "        else:\n",
    "            B, T, V = logits.shape\n",
    "            logits = logits.view(B*T, V)\n",
    "            targets = targets.view(B*T)\n",
    "            #loss us just NLL, equivalently using cross_entropy; takes input of raw logits and target class\n",
    "            loss = F.cross_entropy(logits, targets)\n",
    "            logits = logits.view(B, T, V)\n",
    "\n",
    "        return logits, loss\n",
    "\n",
    "    @torch.no_grad()\n",
    "    def generate(self, token_ids, max_new_tokens=CONTEXT_WINDOW_SIZE):\n",
    "        \"\"\"\n",
    "        Args:\n",
    "          token_ids: (B, T) tensor of token ids to provide as context\n",
    "          max_new_tokens: int, maximum number of new tokens to generate\n",
    "\n",
    "        Returns:\n",
    "          (B, T+max_new_tokens) tensor of context with new tokens appended\n",
    "        \"\"\"\n",
    "        # TODO: your code below\n",
    "        for _ in range(max_new_tokens):\n",
    "            \n",
    "            #logits, probs: B * V; next_token: B * 1; token_ids: B*(T + 1)\n",
    "            logits = self.logits_table(token_ids[:,-1])\n",
    "            probs = F.softmax(logits, dim = -1)\n",
    "            next_token = torch.multinomial(probs, num_samples = 1)   \n",
    "            token_ids = torch.concat((token_ids, next_token), dim = 1)\n",
    "\n",
    "        \n",
    "        return token_ids\n"
   ]
  },
  {
   "cell_type": "markdown",
   "metadata": {
    "id": "2MaUUxb0EQY1"
   },
   "source": [
    "#### Question 1.1.8: Evaluating the initialization.\n",
    "\n",
    "Evaluate the loss of your untrained bigram model on a batch of data. Make sure the loss (negative log likelihood) is per-token (i.e. you may need to average over both sequence length and batch). Does this loss make sense in the context of your answer to Question 1.1.6? Discuss."
   ]
  },
  {
   "cell_type": "code",
   "execution_count": 9,
   "metadata": {
    "id": "xgSEGqKGEiOn"
   },
   "outputs": [
    {
     "name": "stdout",
     "output_type": "stream",
     "text": [
      "Initial model loss is :4.66063928604126\n"
     ]
    }
   ],
   "source": [
    "x,y = get_batch(\"train\", CONTEXT_WINDOW_SIZE, device, batch_size = 32)\n",
    "#x, y: (B, T)\n",
    "bigram_model = BigramLanguageModel(vocab_size)\n",
    "bm = bigram_model.to(device)\n",
    "\n",
    "\n",
    "# TODO: your code below\n",
    "logits, loss = bm.forward(x, y)\n",
    "print(f'Initial model loss is :{loss}')\n"
   ]
  },
  {
   "cell_type": "markdown",
   "metadata": {
    "id": "bS32m6egzg03"
   },
   "source": [
    "---\n",
    "\n",
    "<span style=\"color:red; font-size:16px;\">\n",
    "\n",
    "The loss is expected to be positive, and as the model learns the logits table, it updates the table so that the loss (aka NLL) gradually reduces and gets closer to 0 (perfect model)\n",
    "    \n",
    "</span>\n",
    "\n",
    "---"
   ]
  },
  {
   "cell_type": "markdown",
   "metadata": {
    "id": "IzxRpcgKE4_5"
   },
   "source": [
    "#### Question 1.1.9: Training your bigram model\n",
    "\n",
    "Train your bigram model for `SMALL_ITERS` iterations. Plot and interpret the loss curve.\n",
    "\n",
    "Our train loss gets down to around 2.5 after 1000 iterations."
   ]
  },
  {
   "cell_type": "code",
   "execution_count": 10,
   "metadata": {
    "id": "E2r390zbyz3O"
   },
   "outputs": [
    {
     "name": "stderr",
     "output_type": "stream",
     "text": [
      "100%|██████████████████████████████████████| 1000/1000 [00:07<00:00, 126.81it/s]\n"
     ]
    }
   ],
   "source": [
    "# create a PyTorch optimizer\n",
    "learning_rate = 1e-2\n",
    "optimizer = torch.optim.AdamW(bigram_model.parameters(), lr=learning_rate)\n",
    "\n",
    "eval_interval = 200\n",
    "\n",
    "loss_list = []\n",
    "\n",
    "for it in tqdm(range(SMALL_ITERS)):\n",
    "\n",
    "#     # every once in a while evaluate the loss on train and val sets\n",
    "#     if it % eval_interval == 0 or it == SMALL_ITERS - 1:\n",
    "#         print(f\"iteration {it}\")\n",
    "#         losses = estimate_loss(bm, EVAL_ITERS, CONTEXT_WINDOW_SIZE, device)\n",
    "#         print(f\"step {it}: train loss {losses['train']:.4f}, val loss {losses['val']:.4f}\")\n",
    "\n",
    "    # sample a batch of data\n",
    "    xb, yb = get_batch('train', CONTEXT_WINDOW_SIZE, device)\n",
    "\n",
    "    # evaluate the loss\n",
    "    logits, loss = bm(xb, yb)\n",
    "    loss_list.append(loss.detach().item())\n",
    "    optimizer.zero_grad(set_to_none=True)\n",
    "    loss.backward()\n",
    "    optimizer.step()"
   ]
  },
  {
   "cell_type": "code",
   "execution_count": 11,
   "metadata": {},
   "outputs": [
    {
     "data": {
      "image/png": "[encoded data removed]",
      "text/plain": [
       "<Figure size 640x480 with 1 Axes>"
      ]
     },
     "metadata": {},
     "output_type": "display_data"
    }
   ],
   "source": [
    "# Plot the loss values\n",
    "plt.plot(loss_list, label=\"Training Loss\")\n",
    "\n",
    "# Add labels and title\n",
    "plt.xlabel(\"Iteration\")\n",
    "plt.ylabel(\"Loss\")\n",
    "plt.title(\"BiGram Training Loss Over Time\")\n",
    "\n",
    "# Add a legend\n",
    "plt.legend()\n",
    "\n",
    "# Show the plot\n",
    "plt.show()"
   ]
  },
  {
   "cell_type": "markdown",
   "metadata": {
    "id": "Tj28W2w_ziDA"
   },
   "source": [
    "---\n",
    "\n",
    "<span style=\"color:red; font-size:16px;\">\n",
    "\n",
    "Notice the loss decreases from the initial value around 4.8 down to around 2.5 after 1000 iterations of training, which is the expected behavior. The loss eventually stabilizes at 2.5 as the BiGram model is too simple to fit any better on the training dataset\n",
    "    \n",
    "</span>\n",
    "\n",
    "---"
   ]
  },
  {
   "cell_type": "markdown",
   "metadata": {},
   "source": [
    "#### Text Generation"
   ]
  },
  {
   "cell_type": "code",
   "execution_count": 12,
   "metadata": {},
   "outputs": [
    {
     "name": "stdout",
     "output_type": "stream",
     "text": [
      "BiGram Model Parameter name: logits_table.weight\n",
      "Shape: torch.Size([65, 65])\n",
      "Size: torch.Size([65, 65])\n",
      "Values:\n",
      "Parameter containing:\n",
      "tensor([[ 2.7758, -3.1091, -4.2014,  ..., -4.9872, -0.9635, -4.3682],\n",
      "        [-3.7781, -3.0032, -2.1429,  ..., -3.9041,  1.3749, -4.1169],\n",
      "        [ 3.4484,  2.8886, -2.5928,  ..., -2.8189, -3.9467, -2.5516],\n",
      "        ...,\n",
      "        [-1.5324,  1.1843, -2.9768,  ..., -2.4861, -1.1488, -3.4722],\n",
      "        [ 0.1959,  3.3952, -0.7481,  ..., -3.6270, -5.5077, -4.1114],\n",
      "        [-4.2904, -0.8968, -3.3799,  ..., -3.7735, -0.6095, -0.2637]],\n",
      "       device='mps:0', requires_grad=True)\n",
      "--------------------------------------------------\n"
     ]
    }
   ],
   "source": [
    "# Iterate over the parameters and print their details\n",
    "for name, param in bigram_model.named_parameters():\n",
    "    print(f\"BiGram Model Parameter name: {name}\")\n",
    "    print(f\"Shape: {param.shape}\")\n",
    "    print(f\"Size: {param.size()}\")\n",
    "    print(f\"Values:\\n{param}\")\n",
    "    print(\"-\" * 50)"
   ]
  },
  {
   "cell_type": "code",
   "execution_count": 13,
   "metadata": {},
   "outputs": [
    {
     "name": "stdout",
     "output_type": "stream",
     "text": [
      "O my Lord!\n",
      "Than\n",
      "O,\n",
      "INI I:\n",
      "ARENEnecor ngupre:\n",
      "TEve m m res. pud hy, d, meer le! sharnof r's,\n",
      "ILorevee slse frwa\n"
     ]
    }
   ],
   "source": [
    "# Starting text\n",
    "start_text = 'O my Lord!'\n",
    "max_generate_tokens = 100\n",
    "\n",
    "# Step 1: Encode the starting text into token IDs\n",
    "start_token_ids = encode(start_text)  # Convert text to token IDs\n",
    "start_token_ids = torch.tensor(start_token_ids, dtype=torch.long, device=device)  # Convert to tensor and move to device\n",
    "\n",
    "# Step 2: Generate new tokens using bm.generate()\n",
    "generated_token_ids = bm.generate(start_token_ids.unsqueeze(0), max_new_tokens=max_generate_tokens)  # Add batch dimension\n",
    "\n",
    "# Step 3: Decode the generated token IDs back into text\n",
    "generated_text = decode(generated_token_ids.squeeze(0).tolist())  # Remove batch dimension and convert to list\n",
    "\n",
    "# Print the generated text\n",
    "print(generated_text)"
   ]
  },
  {
   "cell_type": "code",
   "execution_count": 14,
   "metadata": {},
   "outputs": [
    {
     "name": "stdout",
     "output_type": "stream",
     "text": [
      "Current memory allocated on MPS: 2.36 MB\n",
      "Max memory allocated on MPS: 62.77 MB\n"
     ]
    }
   ],
   "source": [
    "import torch\n",
    "\n",
    "# Check if MPS is available\n",
    "if torch.backends.mps.is_available():\n",
    "    # Get the current memory usage\n",
    "    current_memory_allocated = torch.mps.current_allocated_memory()\n",
    "    max_memory_allocated = torch.mps.driver_allocated_memory()\n",
    "\n",
    "    print(f\"Current memory allocated on MPS: {current_memory_allocated / 1024 ** 2:.2f} MB\")\n",
    "    print(f\"Max memory allocated on MPS: {max_memory_allocated / 1024 ** 2:.2f} MB\")\n",
    "else:\n",
    "    print(\"MPS is not available.\")\n",
    "    \n",
    "torch.mps.empty_cache()"
   ]
  },
  {
   "cell_type": "markdown",
   "metadata": {
    "id": "slaOmWgFLdMk"
   },
   "source": [
    "### 1.2: Token Embeddings: going from discrete tokens to continuous latent spaces\n",
    "\n",
    "In the look up table formulation of the bigram model, we are modelling the logits of the next token distribution independently for each token, even if two tokens are extremely similar to each other.\n",
    "One way around this problem is to learn an embedding of the discrete tokens into $\\mathbb{R}^{D}$, and then to run multi-class logistic regression on top of this learned embedding.\n",
    "\n",
    "More precisely, if we have a vocabulary of tokens of size $V$ that we choose to embed in a Euclidean embedding space of dimension $D$, we can parameterize the distribution of the next token if the current token is $v$ according to\n",
    "\\begin{align*}\n",
    "  \\mathrm{Cat}\\Big( \\mathrm{softmax} (\\beta X_v^T) \\Big),\n",
    "\\end{align*}\n",
    "where $X_v \\in \\mathbb{R}^{D}$ is the learned embedding of token $v$ into $\\mathbb{R}^{D}$ and $\\beta \\in \\mathbb{R}^{V \\times D}$. Notice that if $X$ were a fixed design matrix this formulation would be equivalent to multi-class logistic regression. However, both $X$ and $\\beta$ are learnable parameters."
   ]
  },
  {
   "cell_type": "markdown",
   "metadata": {
    "id": "kX6BRU07O7Cr"
   },
   "source": [
    "#### Question 1.2.1: Implement BigramWithWordEmbeddingsLM\n",
    "\n",
    "Implement a bigram languge model that uses a linear readout from a low dimensional Euclidean embedding of each token to parameterize the logits of the next token distribution, instead of parameterizing the logits of the next token distribution directly. It should have almost the same implementation as `BigramLanguageModel` from Question 1.1.6, except `init` should also take in an `embed_size`, and the `forward` method will need to be modified."
   ]
  },
  {
   "cell_type": "code",
   "execution_count": 15,
   "metadata": {
    "id": "brU5zILoQASX"
   },
   "outputs": [],
   "source": [
    "class BigramWithWordEmbeddingsLM(nn.Module):\n",
    "    def __init__(self, vocab_size, embed_size=32):\n",
    "        \"\"\"\n",
    "        Args:\n",
    "            vocab_size: int, size of the vocabulary\n",
    "            embed_size: int, dimension of the word embedding (D)\n",
    "            \n",
    "        nn.Embedding() functions just like a look up table where each index corresponds to a learned vector (mapping\n",
    "        categorical index into vectors)\n",
    "        \n",
    "        nn.Linear() applies linear transformation (weights and biases)\n",
    "        \"\"\"\n",
    "        \n",
    "        #TODO, your code here\n",
    "        super().__init__()\n",
    "        self.vocab_size = vocab_size\n",
    "        self.token_embeddings = nn.Embedding(vocab_size, embed_size)\n",
    "        ##nn.Linear(input_dim, output_dim)\n",
    "        self.linear = nn.Linear(embed_size, vocab_size)\n",
    "        \n",
    "        \n",
    "    def forward(self, token_ids, targets=None):\n",
    "        \"\"\"\n",
    "        Args:\n",
    "          token_ids: (B, T) token ids that make up the context (batch has size B, each entry in the batch has length T)\n",
    "          targets: (B, T) token ids corresponding to the target of each context in token_ids\n",
    "\n",
    "        Returns:\n",
    "          logits: (B, T, V), logits[b,t, :] gives the length V vector of logits for the next token prediction in string b up to t tokens\n",
    "          loss: scalar, negative log likelihood of target given context\n",
    "        \"\"\"\n",
    "        # TODO, your code here\n",
    "        \n",
    "        token_embeddings = self.token_embeddings(token_ids) #B,T,D\n",
    "        logits = self.linear(token_embeddings) #B,T,V\n",
    "        \n",
    "        if targets is None:\n",
    "            loss = None\n",
    "        else:\n",
    "            B, T, V = logits.shape\n",
    "            logits = logits.view(B*T, V)\n",
    "            targets = targets.view(B*T)\n",
    "            #loss us just NLL, equivalently using cross_entropy; takes input of raw logits and target class\n",
    "            loss = F.cross_entropy(logits, targets)\n",
    "            logits = logits.view(B, T, V)\n",
    "\n",
    "        return logits, loss\n",
    "\n",
    "\n",
    "    @torch.no_grad()\n",
    "    def generate(self, token_ids, max_new_tokens=CONTEXT_WINDOW_SIZE):\n",
    "        \"\"\"\n",
    "        Args:\n",
    "          token_ids: (B, T) tensor of token ids to provide as context\n",
    "          max_new_tokens: int, maximum number of new tokens to generate\n",
    "\n",
    "        Returns:\n",
    "          (B, T+max_new_tokens) tensor of context with new tokens appended\n",
    "        \"\"\"\n",
    "        for _ in range(max_new_tokens):\n",
    "            \n",
    "            #logits, probs: B * V; next_token: B * 1; token_ids: B*(T + 1)\n",
    "            logits = self.logits_table(token_ids[:,-1])\n",
    "            probs = F.softmax(logits, dim = -1)\n",
    "            next_token = torch.multinomial(probs, num_samples = 1)   \n",
    "            token_ids = torch.concat((token_ids, next_token), dim = 1)\n",
    "\n",
    "        return token_ids\n"
   ]
  },
  {
   "cell_type": "markdown",
   "metadata": {
    "id": "5JJCQ3vWuX6y"
   },
   "source": [
    "#### Question 1.2.2: Training your bigram model with word embeddings\n",
    "\n",
    "Train your bigram model with word embeddings for `SMALL_ITERS` iterations. Plot and interpret the loss curve. How does the final loss compare to that of the bigram model without embeddings? Why do you think this is?\n",
    "\n",
    "Our train loss gets down to around 2.5 after 1000 iterations."
   ]
  },
  {
   "cell_type": "code",
   "execution_count": 16,
   "metadata": {
    "id": "kZpsE59qug1B"
   },
   "outputs": [
    {
     "name": "stderr",
     "output_type": "stream",
     "text": [
      "100%|██████████████████████████████████████| 1000/1000 [00:04<00:00, 212.88it/s]\n"
     ]
    }
   ],
   "source": [
    "bigram_model_embed = BigramWithWordEmbeddingsLM(vocab_size)\n",
    "bm_e = bigram_model_embed.to(device)\n",
    "\n",
    "learning_rate = 1e-2\n",
    "optimizer = torch.optim.AdamW(bigram_model_embed.parameters(), lr=learning_rate)\n",
    "\n",
    "eval_interval = 200\n",
    "\n",
    "loss_list = []\n",
    "\n",
    "for it in tqdm(range(SMALL_ITERS)):\n",
    "\n",
    "#     # every once in a while evaluate the loss on train and val sets\n",
    "#     if it % eval_interval == 0 or it == SMALL_ITERS - 1:\n",
    "#         print(f\"iteration {it}\")\n",
    "#         losses = estimate_loss(bm_e, EVAL_ITERS, CONTEXT_WINDOW_SIZE, device)\n",
    "#         print(f\"step {it}: train loss {losses['train']:.4f}, val loss {losses['val']:.4f}\")\n",
    "\n",
    "    # sample a batch of data\n",
    "    xb, yb = get_batch('train', CONTEXT_WINDOW_SIZE, device)\n",
    "\n",
    "    # evaluate the loss\n",
    "    logits, loss = bm_e(xb, yb)\n",
    "    loss_list.append(loss.detach().item())\n",
    "    optimizer.zero_grad(set_to_none=True)\n",
    "    loss.backward()\n",
    "    optimizer.step()"
   ]
  },
  {
   "cell_type": "code",
   "execution_count": 17,
   "metadata": {},
   "outputs": [
    {
     "data": {
      "image/png": "[encoded data removed]",
      "text/plain": [
       "<Figure size 640x480 with 1 Axes>"
      ]
     },
     "metadata": {},
     "output_type": "display_data"
    }
   ],
   "source": [
    "# Plot the loss values\n",
    "plt.plot(loss_list, label=\"Training Loss\")\n",
    "\n",
    "# Add labels and title\n",
    "plt.xlabel(\"Iteration\")\n",
    "plt.ylabel(\"Loss\")\n",
    "plt.title(\"BiGram w/Embedding Training Loss Over Time\")\n",
    "\n",
    "# Add a legend\n",
    "plt.legend()\n",
    "\n",
    "# Show the plot\n",
    "plt.show()"
   ]
  },
  {
   "cell_type": "markdown",
   "metadata": {},
   "source": [
    "---\n",
    "\n",
    "<span style=\"color:red; font-size:16px;\">\n",
    "\n",
    "The final loss is similar to the vanilla Bigram model (~2.5 after 1000 iterations). This is expected, since the model is still using only the previous character solely to predict the current character: we don't expect a model like this can perform very well\n",
    "    \n",
    "</span>\n",
    "\n",
    "---"
   ]
  },
  {
   "cell_type": "code",
   "execution_count": 18,
   "metadata": {},
   "outputs": [
    {
     "name": "stdout",
     "output_type": "stream",
     "text": [
      "BiGram Model Parameter name: token_embeddings.weight\n",
      "Shape: torch.Size([65, 32])\n",
      "Size: torch.Size([65, 32])\n",
      "Values:\n",
      "Parameter containing:\n",
      "tensor([[-0.2452,  0.1284,  1.2245,  ...,  1.1618, -0.1933,  1.6326],\n",
      "        [-0.9156,  2.1038,  1.1494,  ..., -0.1616, -0.3743, -0.5756],\n",
      "        [ 0.0783,  0.0970,  0.7618,  ..., -0.5461, -2.8979,  0.0123],\n",
      "        ...,\n",
      "        [-0.7588,  0.4475,  0.7144,  ..., -1.8214, -0.8186, -1.4470],\n",
      "        [ 0.0155, -1.3204, -1.4385,  ..., -2.1123,  0.7540,  0.2511],\n",
      "        [ 1.4611,  0.8652,  0.3481,  ..., -1.6858,  0.2157, -0.4724]],\n",
      "       device='mps:0', requires_grad=True)\n",
      "--------------------------------------------------\n",
      "BiGram Model Parameter name: linear.weight\n",
      "Shape: torch.Size([65, 32])\n",
      "Size: torch.Size([65, 32])\n",
      "Values:\n",
      "Parameter containing:\n",
      "tensor([[ 0.0461, -0.3112, -0.0862,  ...,  0.2032, -0.4659,  0.4018],\n",
      "        [-0.1058, -0.6512, -0.3954,  ..., -0.2663, -0.5948, -0.1194],\n",
      "        [ 0.1330, -0.3857, -0.3304,  ..., -0.1348,  0.2967, -0.1600],\n",
      "        ...,\n",
      "        [ 0.5163, -1.0848,  0.0308,  ...,  0.2954,  0.3215,  0.0064],\n",
      "        [ 0.1503,  0.3403,  0.4383,  ..., -0.2570,  0.1585, -0.6191],\n",
      "        [ 0.4546, -0.4949,  0.0935,  ..., -0.1525,  0.8930,  0.3130]],\n",
      "       device='mps:0', requires_grad=True)\n",
      "--------------------------------------------------\n",
      "BiGram Model Parameter name: linear.bias\n",
      "Shape: torch.Size([65])\n",
      "Size: torch.Size([65])\n",
      "Values:\n",
      "Parameter containing:\n",
      "tensor([ 0.1825,  0.2952, -0.2633, -0.3664, -0.4944, -0.1223, -0.2306, -0.2059,\n",
      "        -0.3158, -0.5105,  0.1363, -0.3186, -0.3183, -0.1997, -0.4909, -0.5351,\n",
      "        -0.3560, -0.3645, -0.5424, -0.2349, -0.5438, -0.2835, -0.4621, -0.2452,\n",
      "        -0.4646, -0.2187, -0.3533, -0.3486, -0.3429, -0.4376, -0.2477, -0.4021,\n",
      "        -0.2145, -0.4415, -0.5465, -0.2962, -0.5116, -0.3001, -0.4862,  0.3522,\n",
      "        -0.3444, -0.3797,  0.0608,  0.3341, -0.1260, -0.3681,  0.2985,  0.5298,\n",
      "        -0.3764, -0.2356,  0.2968, -0.0674,  0.1833,  0.4829, -0.4256, -0.4613,\n",
      "         0.4523,  0.2188,  0.1912,  0.4024, -0.2581, -0.2776, -0.4984,  0.0085,\n",
      "        -0.4495], device='mps:0', requires_grad=True)\n",
      "--------------------------------------------------\n"
     ]
    }
   ],
   "source": [
    "# Iterate over the parameters and print their details\n",
    "for name, param in bigram_model_embed.named_parameters():\n",
    "    print(f\"BiGram Model Parameter name: {name}\")\n",
    "    print(f\"Shape: {param.shape}\")\n",
    "    print(f\"Size: {param.size()}\")\n",
    "    print(f\"Values:\\n{param}\")\n",
    "    print(\"-\" * 50)"
   ]
  },
  {
   "cell_type": "code",
   "execution_count": 19,
   "metadata": {},
   "outputs": [
    {
     "name": "stdout",
     "output_type": "stream",
     "text": [
      "Current memory allocated on MPS: 4.44 MB\n",
      "Max memory allocated on MPS: 62.81 MB\n"
     ]
    }
   ],
   "source": [
    "import torch\n",
    "\n",
    "# Check if MPS is available\n",
    "if torch.backends.mps.is_available():\n",
    "    # Get the current memory usage\n",
    "    current_memory_allocated = torch.mps.current_allocated_memory()\n",
    "    max_memory_allocated = torch.mps.driver_allocated_memory()\n",
    "\n",
    "    print(f\"Current memory allocated on MPS: {current_memory_allocated / 1024 ** 2:.2f} MB\")\n",
    "    print(f\"Max memory allocated on MPS: {max_memory_allocated / 1024 ** 2:.2f} MB\")\n",
    "else:\n",
    "    print(\"MPS is not available.\")\n",
    "    \n",
    "torch.mps.empty_cache()"
   ]
  },
  {
   "cell_type": "markdown",
   "metadata": {
    "id": "ypOE6LnnGdyu"
   },
   "source": [
    "### 1.3: Attention: Relaxing Markovian assumptions to transmit information across the sequence length\n",
    "\n",
    "A major problem with the bigram models of Sections 1.1 and 1.2 was that they were Markovian: the distribution of the next token was determined entirely by the current token! The attention mechanism provides a way to extract information between the previous tokens in the context to provide a better parameterization for the distribution of the next token."
   ]
  },
  {
   "cell_type": "markdown",
   "metadata": {
    "id": "F-XHeM1VRO6H"
   },
   "source": [
    "#### Question 1.3.1: Averaging over word embeddings\n",
    "\n",
    "One simple way to pool information would simply be to average the embeddings!\n",
    "\n",
    "Your TODO: Add comments to the the code snippet below. Write a description here explaining why the code is mathematically equivalent to averaging the embeddings of the previous tokens and the current token."
   ]
  },
  {
   "cell_type": "markdown",
   "metadata": {
    "id": "S-8W0Xx_zsst"
   },
   "source": [
    "---\n",
    "\n",
    "<span style=\"color:red; font-size:16px;\">\n",
    "\n",
    "The attention weight is initialized as a T by T matrix so that all the upper diagonal elements (excluding diagonal) is -inf, which becomes 0 after softmax transformation. This is necessary since the current word can only attend to its previous context and itself (cannot see into the future). \n",
    "\n",
    "The final avg_embeddings (Y) is attention_weights (W) @ X, and for each batch this is a T by D vector. Specifically, $Y_{i,} = \\sum_{t = 1}^{T} W_{i,t} * X_{t,}$, which means that the t-th character embedding can be seen as the average (where all future weights are set to zeros and all non-zero values are equal) of each of the input embedding from $t = 1...T$\n",
    "    \n",
    "</span>\n",
    "\n",
    "---"
   ]
  },
  {
   "cell_type": "code",
   "execution_count": 20,
   "metadata": {
    "id": "gCaS07DtGgCr"
   },
   "outputs": [],
   "source": [
    "# average word embedding via matrix multiply and softmax\n",
    "small_batch_size = 4              # B\n",
    "small_context_window_size = 8     # T\n",
    "small_embed_size = 2              # D\n",
    "\n",
    "# make \"synthetic\" word embeddings (for illustration purposes only)\n",
    "X = torch.randn(small_batch_size, small_context_window_size, small_embed_size) #B, T, D\n",
    "\n",
    "# TODO: comment the code below\n",
    "tril = torch.tril(torch.ones(small_context_window_size, small_context_window_size)) #T*T lower triangualr matrix of all ones.\n",
    "attn_weights = torch.zeros((small_context_window_size, small_context_window_size)) #T*T\n",
    "attn_weights = attn_weights.masked_fill(tril == 0, float('-inf')) #T*T: lower triangular all 0, rest is -inf\n",
    "attn_weights = F.softmax(attn_weights, dim=-1) #all upper triangular weight (excluding diagonal) is 0\n",
    "avg_embeddings = attn_weights @ X"
   ]
  },
  {
   "cell_type": "code",
   "execution_count": 21,
   "metadata": {},
   "outputs": [
    {
     "name": "stdout",
     "output_type": "stream",
     "text": [
      "Final attention weights are:\n",
      "tensor([[1.0000, 0.0000, 0.0000, 0.0000, 0.0000, 0.0000, 0.0000, 0.0000],\n",
      "        [0.5000, 0.5000, 0.0000, 0.0000, 0.0000, 0.0000, 0.0000, 0.0000],\n",
      "        [0.3333, 0.3333, 0.3333, 0.0000, 0.0000, 0.0000, 0.0000, 0.0000],\n",
      "        [0.2500, 0.2500, 0.2500, 0.2500, 0.0000, 0.0000, 0.0000, 0.0000],\n",
      "        [0.2000, 0.2000, 0.2000, 0.2000, 0.2000, 0.0000, 0.0000, 0.0000],\n",
      "        [0.1667, 0.1667, 0.1667, 0.1667, 0.1667, 0.1667, 0.0000, 0.0000],\n",
      "        [0.1429, 0.1429, 0.1429, 0.1429, 0.1429, 0.1429, 0.1429, 0.0000],\n",
      "        [0.1250, 0.1250, 0.1250, 0.1250, 0.1250, 0.1250, 0.1250, 0.1250]])\n"
     ]
    }
   ],
   "source": [
    "print('Final attention weights are:')\n",
    "print(attn_weights)"
   ]
  },
  {
   "cell_type": "markdown",
   "metadata": {
    "id": "oIDlnRDGXaie"
   },
   "source": [
    "#### 1.3.2: Single-headed scaled $(Q,K,V)$-attention\n",
    "\n",
    "A more sophisticated approach than simply averaging over previous word embeddings is single-headed (Query, Key, Value) scaled attention.\n",
    "That is, we now summarize the information contained in a length $T$ sequence of tokens that have been embeded into $X \\in \\mathbb{R}^{T \\times D}$ according to\n",
    "\\begin{equation}\n",
    "   \\mathrm{SoftmaxAcrossRows} \\Bigg( \\frac{\\mathrm{CausalMask}\\Big(X U_q^\\top U_k X^\\top \\Big)}{\\sqrt{K}} \\Bigg) \\Big( X V^\\top \\Big),\n",
    "\\end{equation}\n",
    "where $U_q, U_k \\in \\mathbb{R}^{K \\times D}$, $V \\in \\mathbb{R}^{D \\times D}$, and $K$ is the \"head size\".\n",
    "\n"
   ]
  },
  {
   "cell_type": "markdown",
   "metadata": {
    "id": "E84BzzxPdwUd"
   },
   "source": [
    "##### Question 1.3.2.1\n",
    "\n",
    "In the limiting case where $U_q$ and $U_k$ are all zeros, and $V = I_{D}$, what does $(U_q, U_k, V)$ attention simplify to?"
   ]
  },
  {
   "cell_type": "markdown",
   "metadata": {
    "id": "AmFw8z5Dz3T6"
   },
   "source": [
    "---\n",
    "\n",
    "<span style=\"color:red; font-size:16px;\">\n",
    "\n",
    "In this limiting case, the final attention weight matrix, after masking and softmax applications, is just the attention matrix defined in the code chunk before where it simply takes the average of all the previous and current token's embeddings.\n",
    "    \n",
    "</span>\n",
    "\n",
    "---"
   ]
  },
  {
   "cell_type": "markdown",
   "metadata": {
    "id": "jeKfSrREhgdH"
   },
   "source": [
    "##### Question 1.3.2.2: Implement single-headed scaled $(U_q,U_k,V)$-attention.\n",
    "\n",
    "Complete the below code so the `forward` method returns single-headed scaled $(U_q,U_k,V)$-attention."
   ]
  },
  {
   "cell_type": "code",
   "execution_count": 22,
   "metadata": {
    "id": "O_eBPiT-Yy0q"
   },
   "outputs": [],
   "source": [
    "class Head(nn.Module):\n",
    "    \"\"\" one head of self-attention \"\"\"\n",
    "\n",
    "    def __init__(self, head_size, context_window_size, embed_size=384):\n",
    "        \"\"\"\n",
    "        Args:\n",
    "          head_size: int, size of the head embedding dimension (K)\n",
    "          context_window_size: int, number of tokens considered in the past for attention (T)\n",
    "          embed_size: int, size of the token embedding dimension (D)\n",
    "          \n",
    "        Uk: D,K\n",
    "        Uq: D,K\n",
    "        Uv: D,D\n",
    "        \"\"\"\n",
    "        super().__init__()\n",
    "        self.head_size = head_size\n",
    "        #Need to explicitly turn off the biase term\n",
    "        #Notice it's Linear here, which applies transformation from K to D\n",
    "        self.key = nn.Linear(embed_size, head_size, bias=False)\n",
    "        self.query = nn.Linear(embed_size, head_size, bias=False)\n",
    "        self.value = nn.Linear(embed_size, embed_size, bias=False)\n",
    "\n",
    "        # not a param of the model, so registered as a buffer so will not be learned is \n",
    "        self.register_buffer('tril', torch.tril(\n",
    "            torch.ones(context_window_size, context_window_size)))\n",
    "\n",
    "    def forward(self, x):\n",
    "        \"\"\"\n",
    "        Args:\n",
    "          x: (B,T,D) tensor of token embeddings\n",
    "\n",
    "        Returns:\n",
    "          (B,T,D) tensor of attention-weighted token embeddings\n",
    "        \"\"\"\n",
    "        # TODO: your code here\n",
    "        B, T, D = x.shape\n",
    "        query_vectors = self.query(x)  #B, T, K\n",
    "        key_vectors = self.key(x)      #B, T, K\n",
    "        value_vectors = self.value(x)  #B, T, D\n",
    "        \n",
    "        attention_scores = torch.matmul(query_vectors, key_vectors.transpose(1,2)) #B, T, T\n",
    "        attention_scores /= self.head_size ** 0.5\n",
    "        masked_attention = attention_scores.masked_fill(self.tril[:T, :T] == 0, float('-inf')) #B, T, T\n",
    "        attention_weights = F.softmax(masked_attention, dim = -1) #B, T, T\n",
    "        output = torch.matmul(attention_weights, value_vectors) #B, T, D\n",
    "        \n",
    "        return output\n"
   ]
  },
  {
   "cell_type": "markdown",
   "metadata": {
    "id": "3RqGrCB21qUV"
   },
   "source": [
    "##### Question 1.3.2.3: Implement a single-headed attention language model\n",
    "\n",
    "Complete the code below. Note that because the transformer has no idea where tokens are occuring in space, we have also added in position embeddings."
   ]
  },
  {
   "cell_type": "code",
   "execution_count": 23,
   "metadata": {
    "id": "REr3aWnS1xJL"
   },
   "outputs": [],
   "source": [
    "class SingleHeadedAttentionLM(nn.Module):\n",
    "\n",
    "    def __init__(self, vocab_size, context_window_size, head_size, embed_size=384):\n",
    "        \"\"\"\n",
    "          Args:\n",
    "        vocab_size: int, size of the vocabulary (V)\n",
    "        context_window_size: int, number of tokens considered in the past for attention (T)\n",
    "        head_size: int, size of the head embedding dimension (K)\n",
    "        embed_size: int, size of the token embedding dimension (D)\n",
    "        \"\"\"\n",
    "        super().__init__()\n",
    "        self.token_embedding_table = nn.Embedding(vocab_size, embed_size)\n",
    "        self.position_embedding_table = nn.Embedding(context_window_size, embed_size)\n",
    "        self.context_window_size = context_window_size\n",
    "\n",
    "        # TODO: your code below\n",
    "        self.atten_head = Head(head_size, context_window_size, embed_size)\n",
    "        self.lm_head = nn.Linear(embed_size, vocab_size)\n",
    "\n",
    "    def forward(self, token_ids, targets=None):\n",
    "        \"\"\"\n",
    "        Args:\n",
    "          token_ids: (B, T) token ids that make up the context (batch has size B, each entry\n",
    "                     in the batch has length T)\n",
    "          targets: (B, T) token ids corresponding to the target of each context in token_ids\n",
    "\n",
    "        Returns:\n",
    "          logits: (B, T, V) logits[b,t] gives the length V vector of logits for the next token\n",
    "                   prediction in string b up to t tokens\n",
    "          loss: scalar, negative log likelihood of target given context\n",
    "        \"\"\"\n",
    "        B, T = token_ids.shape # (batch size, length)\n",
    "        tok_emb = self.token_embedding_table(token_ids) # (B,T,D)\n",
    "        #nn.Embedding as a lookup table that returns a D-dim vector for each t = 0,..,T-1\n",
    "        pos_emb = self.position_embedding_table(torch.arange(T, device=device)) # (T,D)\n",
    "        x = tok_emb + pos_emb # (B,T,D)\n",
    "        x = self.atten_head(x) # (B,T,D)\n",
    "        logits = self.lm_head(x) # (B,T,V)\n",
    "\n",
    "        if targets is not None:\n",
    "            logits = logits.view(B*T, -1)\n",
    "            targets = targets.view(B*T)\n",
    "            #sum of loss of all token predictions in all batches\n",
    "            loss = F.cross_entropy(logits, targets)\n",
    "            logits = logits.view(B, T, -1)\n",
    "            targets = targets.view(B, T)\n",
    "   \n",
    "        return logits, loss\n",
    "\n",
    "    @torch.no_grad()\n",
    "    def generate(self, token_ids, max_new_tokens):\n",
    "        \"\"\"\n",
    "        Args:\n",
    "          token_ids: (B, T) tensor of token ids to provide as context\n",
    "          max_new_tokens: int, maximum number of new tokens to generate\n",
    "\n",
    "        Returns:\n",
    "          (B, T+max_new_tokens) tensor of context with new tokens appended\n",
    "        \"\"\"\n",
    "        for _ in range(max_new_tokens):\n",
    "            \n",
    "            #cropping to ensure only context_window_length tokens are processed\n",
    "            current_token_ids = token_ids[:, -self.context_window_size:] #B, T\n",
    "            logits, _ = self(token_ids) #B, T, V\n",
    "            logits = logits[:, -1, :] #B, V\n",
    "            probs = F.softmax(logits, dim = -1) #B, V\n",
    "            next_token = torch.multinomial(probs, num_samples = 1) #B, 1\n",
    "            token_ids = torch.cat((token_ids, new_token), dim=-1)\n",
    "            \n",
    "        return token_ids"
   ]
  },
  {
   "cell_type": "markdown",
   "metadata": {
    "id": "End-pUCa4RXe"
   },
   "source": [
    "Train your new `SingleHeadedAttentionLM` for `SMALL_ITERS` training iterations and plot the loss curve.\n",
    "The `head_size` shouldn't matter too much, we just use the `embedding_size`.\n",
    "Do you seen an improvement compared to your `BigramLanguageModel`? Discuss.\n",
    "\n",
    "Note: you may want to modify the learning rate. Training for `SMALL_ITERS` with a learning rate of `6e-4`, we can get to a train loss of around 2.3."
   ]
  },
  {
   "cell_type": "code",
   "execution_count": 24,
   "metadata": {
    "id": "070G_l0E0uG9"
   },
   "outputs": [
    {
     "name": "stderr",
     "output_type": "stream",
     "text": [
      "100%|███████████████████████████████████████| 1000/1000 [00:20<00:00, 49.94it/s]\n"
     ]
    }
   ],
   "source": [
    "embed_size = 384\n",
    "sha_model = SingleHeadedAttentionLM(vocab_size, CONTEXT_WINDOW_SIZE, embed_size, embed_size)\n",
    "sham = sha_model.to(device)\n",
    "learning_rate = 6e-4\n",
    "optimizer = torch.optim.AdamW(sha_model.parameters(), lr=learning_rate)\n",
    "\n",
    "eval_interval = 200\n",
    "\n",
    "loss_list = []\n",
    "\n",
    "for it in tqdm(range(SMALL_ITERS)):\n",
    "\n",
    "#     # every once in a while evaluate the loss on train and val sets\n",
    "#     if it % eval_interval == 0 or it == SMALL_ITERS - 1:\n",
    "#         print(f\"iteration {it}\")\n",
    "#         losses = estimate_loss(sham, EVAL_ITERS, CONTEXT_WINDOW_SIZE, device)\n",
    "#         print(\n",
    "#             f\"step {it}: train loss {losses['train']:.4f}, val loss {losses['val']:.4f}\"\n",
    "#         )\n",
    "\n",
    "    # sample a batch of data\n",
    "    xb, yb = get_batch(\"train\", CONTEXT_WINDOW_SIZE, device)\n",
    "\n",
    "    # evaluate the loss\n",
    "    logits, loss = sham(xb, yb)\n",
    "    loss_list.append(loss.detach().item())\n",
    "    optimizer.zero_grad(set_to_none=True)\n",
    "    loss.backward()\n",
    "    optimizer.step()"
   ]
  },
  {
   "cell_type": "code",
   "execution_count": 25,
   "metadata": {},
   "outputs": [
    {
     "data": {
      "image/png": "[encoded data removed]",
      "text/plain": [
       "<Figure size 640x480 with 1 Axes>"
      ]
     },
     "metadata": {},
     "output_type": "display_data"
    }
   ],
   "source": [
    "# Plot the loss values\n",
    "plt.plot(loss_list, label=\"Training Loss\")\n",
    "\n",
    "# Add labels and title\n",
    "plt.xlabel(\"Iteration\")\n",
    "plt.ylabel(\"Loss\")\n",
    "plt.title(\"SingleHead Attention Training Loss Over Time\")\n",
    "\n",
    "# Add a legend\n",
    "plt.legend()\n",
    "\n",
    "# Show the plot\n",
    "plt.show()"
   ]
  },
  {
   "cell_type": "markdown",
   "metadata": {
    "id": "u05NFXpo0wWs"
   },
   "source": [
    "---\n",
    "\n",
    "<span style=\"color:red; font-size:16px;\">\n",
    "\n",
    "We have seen some improvement on the model performances: Recall that the BiGram model's final loss is stabilizes at around 2.5, whereas with single head attention embeddings at 1000 iterations achieves a loss at around 2.3 at 1000 iterations. \n",
    "    \n",
    "</span>\n",
    "\n",
    "---"
   ]
  },
  {
   "cell_type": "code",
   "execution_count": 26,
   "metadata": {},
   "outputs": [
    {
     "name": "stdout",
     "output_type": "stream",
     "text": [
      "Single Head Attention Model Parameter name: token_embedding_table.weight\n",
      "Shape: torch.Size([65, 384])\n",
      "Size: torch.Size([65, 384])\n",
      "--------------------------------------------------\n",
      "Single Head Attention Model Parameter name: position_embedding_table.weight\n",
      "Shape: torch.Size([256, 384])\n",
      "Size: torch.Size([256, 384])\n",
      "--------------------------------------------------\n",
      "Single Head Attention Model Parameter name: atten_head.key.weight\n",
      "Shape: torch.Size([384, 384])\n",
      "Size: torch.Size([384, 384])\n",
      "--------------------------------------------------\n",
      "Single Head Attention Model Parameter name: atten_head.query.weight\n",
      "Shape: torch.Size([384, 384])\n",
      "Size: torch.Size([384, 384])\n",
      "--------------------------------------------------\n",
      "Single Head Attention Model Parameter name: atten_head.value.weight\n",
      "Shape: torch.Size([384, 384])\n",
      "Size: torch.Size([384, 384])\n",
      "--------------------------------------------------\n",
      "Single Head Attention Model Parameter name: lm_head.weight\n",
      "Shape: torch.Size([65, 384])\n",
      "Size: torch.Size([65, 384])\n",
      "--------------------------------------------------\n",
      "Single Head Attention Model Parameter name: lm_head.bias\n",
      "Shape: torch.Size([65])\n",
      "Size: torch.Size([65])\n",
      "--------------------------------------------------\n"
     ]
    }
   ],
   "source": [
    "# Iterate over the parameters and print their details\n",
    "for name, param in sha_model.named_parameters():\n",
    "    print(f\"Single Head Attention Model Parameter name: {name}\")\n",
    "    print(f\"Shape: {param.shape}\")\n",
    "    print(f\"Size: {param.size()}\")\n",
    "#     print(f\"Values:\\n{param}\")\n",
    "    print(\"-\" * 50)"
   ]
  },
  {
   "cell_type": "markdown",
   "metadata": {
    "id": "7wjXYf-S4Lus"
   },
   "source": [
    "#### 1.3.3: Multi-headed attention"
   ]
  },
  {
   "cell_type": "markdown",
   "metadata": {
    "id": "ZIObjMO0Ikp5"
   },
   "source": [
    "##### Question 1.3.3.1: Implement multi-headed attention"
   ]
  },
  {
   "cell_type": "code",
   "execution_count": 27,
   "metadata": {
    "id": "6vb8NU_s6Vfg"
   },
   "outputs": [],
   "source": [
    "class MultiHeadAttention(nn.Module):\n",
    "    \"\"\" multiple heads of self-attention in parallel \"\"\"\n",
    "\n",
    "    def __init__(self, context_window_size, num_heads, embed_size=384):\n",
    "        \"\"\"\n",
    "        Args:\n",
    "            context_window_size: int, number of tokens considered in the past for attention (T)\n",
    "            num_heads: int, number of heads (H)\n",
    "            head_size: int, size of the head embedding dimension\n",
    "            embed_size: int, size of the token embedding dimension\n",
    "        \"\"\"\n",
    "        super().__init__()\n",
    "        # TODO, your code below\n",
    "        self.head_size = embed_size // num_heads\n",
    "        self.heads = nn.ModuleList([\n",
    "            Head(self.head_size, context_window_size, embed_size) for _ in range(num_heads)\n",
    "        ])\n",
    "        self.proj = nn.Linear(num_heads * embed_size, embed_size)\n",
    "\n",
    "    def forward(self, x):\n",
    "        \"\"\"\n",
    "        Args:\n",
    "            x: B, T, D: tensors of token embeddings\n",
    "        \"\"\"\n",
    "        \n",
    "        B,T,D = x.shape\n",
    "        head_outputs = [head(x) for head in self.heads] #length H list of B, T, D\n",
    "        output = torch.cat(head_outputs, dim = -1) #B, T, K*D\n",
    "        output = self.proj(output) #B, T, D\n",
    "        return output"
   ]
  },
  {
   "cell_type": "markdown",
   "metadata": {
    "id": "aFCBRay3IuR3"
   },
   "source": [
    "##### Question 1.3.3.2: Implement a multi-headed attention LM\n",
    "\n",
    "Fill in the code below to create a language model that outputs its logits for next token prediction using multi-headed attention. Train your model for `SMALL_ITERS` training iterations. Compare the results with the single-headed attention model. Do you see an improvement?\n",
    "\n",
    "We get to a train loss of around 2 after 1000 iterations, which takes around 1.5 minutes on a T4 GPU."
   ]
  },
  {
   "cell_type": "code",
   "execution_count": 28,
   "metadata": {
    "id": "LvWHwcCzI1yr"
   },
   "outputs": [],
   "source": [
    "class MultiHeadedAttentionLM(nn.Module):\n",
    "\n",
    "    def __init__(self, vocab_size, context_window_size, embed_size=384, num_heads=6):\n",
    "        super().__init__()\n",
    "        self.context_window_size = context_window_size\n",
    "        self.embed_size = embed_size\n",
    "        self.num_heads = 6\n",
    "        \n",
    "        self.token_embedding_table = nn.Embedding(vocab_size, embed_size)\n",
    "        self.position_embedding_table = nn.Embedding(context_window_size, embed_size)\n",
    "        self.multihead = MultiHeadAttention(context_window_size, num_heads, embed_size)\n",
    "        self.lm_head = nn.Linear(embed_size, vocab_size)\n",
    "\n",
    "    def forward(self, token_ids, targets=None):\n",
    "        \"\"\"\n",
    "        Args:\n",
    "          token_ids: (B, T) token ids that make up the context (batch has size B, each entry in the\n",
    "                     batch has length T)\n",
    "          targets: (B, T) token ids corresponding to the target of each context in token_ids\n",
    "\n",
    "        Returns:\n",
    "          logits: (B, T, V), logits[b,t] gives the length V vector of logits for the next token\n",
    "                  prediction in string b up to t tokens\n",
    "          loss: scalar, negative log likelihood of target given context\n",
    "        \"\"\"\n",
    "        # TODO: your code below\n",
    "        \n",
    "        B, T = token_ids.shape \n",
    "        tok_emb = self.token_embedding_table(token_ids) # (B,T,D)\n",
    "        pos_emb = self.position_embedding_table(torch.arange(T, device=device)) # (T,D)\n",
    "        x = tok_emb + pos_emb # (B,T,D)\n",
    "        x = self.multihead(x) #B, T, D\n",
    "        logits = self.lm_head(x) #B, T, V\n",
    "\n",
    "        if targets is not None:\n",
    "            logits = logits.view(B*T, -1)\n",
    "            targets = targets.view(B*T)\n",
    "            #sum of loss of all token predictions in all batches\n",
    "            loss = F.cross_entropy(logits, targets)\n",
    "            logits = logits.view(B, T, -1)\n",
    "            targets = targets.view(B, T)\n",
    "   \n",
    "        return logits, loss\n",
    "\n",
    "    @torch.no_grad()\n",
    "    def generate(self, token_ids, max_new_tokens):\n",
    "        \"\"\"\n",
    "        Args:\n",
    "          token_ids: (B, T) tensor of token ids to provide as context\n",
    "          max_new_tokens: int, maximum number of new tokens to generate\n",
    "\n",
    "        Returns:\n",
    "          (B, T+max_new_tokens) tensor of context with new tokens appended\n",
    "        \"\"\"\n",
    "        # TODO: your code below\n",
    "        for _ in range(max_new_tokens):\n",
    "            \n",
    "            #cropping to ensure only context_window_length tokens are processed\n",
    "            current_token_ids = token_ids[:, -self.context_window_size:] #B, T\n",
    "            logits, _ = self(token_ids) #B, T, V\n",
    "            logits = logits[:, -1, :] #B, V\n",
    "            probs = F.softmax(logits, dim = -1) #B, V\n",
    "            next_token = torch.multinomial(probs, num_samples = 1) #B, 1\n",
    "            token_ids = torch.cat((token_ids, next_token), dim=-1)\n",
    "            \n",
    "        return token_ids"
   ]
  },
  {
   "cell_type": "code",
   "execution_count": 29,
   "metadata": {
    "id": "hM9gOuPAMNcC"
   },
   "outputs": [
    {
     "name": "stderr",
     "output_type": "stream",
     "text": [
      "100%|███████████████████████████████████████| 1000/1000 [01:00<00:00, 16.47it/s]\n"
     ]
    }
   ],
   "source": [
    "# Initialize model\n",
    "model = MultiHeadedAttentionLM(vocab_size, CONTEXT_WINDOW_SIZE)\n",
    "m = model.to(device)\n",
    "\n",
    "# create a PyTorch optimizer\n",
    "learning_rate = 6e-4\n",
    "optimizer = torch.optim.AdamW(model.parameters(), lr=learning_rate)\n",
    "\n",
    "eval_interval = 200\n",
    "\n",
    "loss_list = []\n",
    "\n",
    "for it in tqdm(range(SMALL_ITERS)):\n",
    "\n",
    "#     # every once in a while evaluate the loss on train and val sets\n",
    "#     if it % eval_interval == 0 or it == SMALL_ITERS - 1:\n",
    "#         print(f\"iteration {it}\")\n",
    "#         losses = estimate_loss(m, EVAL_ITERS, CONTEXT_WINDOW_SIZE, device)\n",
    "#         print(f\"step {it}: train loss {losses['train']:.4f}, val loss {losses['val']:.4f}\")\n",
    "\n",
    "    # sample a batch of data\n",
    "    xb, yb = get_batch('train', CONTEXT_WINDOW_SIZE, device)\n",
    "\n",
    "    # evaluate the loss\n",
    "    logits, loss = m(xb, yb)\n",
    "    loss_list.append(loss.detach().item())\n",
    "    optimizer.zero_grad(set_to_none=True)\n",
    "    loss.backward()\n",
    "    optimizer.step()"
   ]
  },
  {
   "cell_type": "code",
   "execution_count": 30,
   "metadata": {},
   "outputs": [
    {
     "data": {
      "image/png": "[encoded data removed]",
      "text/plain": [
       "<Figure size 640x480 with 1 Axes>"
      ]
     },
     "metadata": {},
     "output_type": "display_data"
    }
   ],
   "source": [
    "# Plot the loss values\n",
    "plt.plot(loss_list, label=\"Multiheaded Attention (H=384) Training Loss\")\n",
    "\n",
    "# Add labels and title\n",
    "plt.xlabel(\"Iteration\")\n",
    "plt.ylabel(\"Loss\")\n",
    "plt.title(\"Multihead Attention Training Loss Over Time\")\n",
    "\n",
    "# Add a legend\n",
    "plt.legend()\n",
    "\n",
    "# Show the plot\n",
    "plt.show()"
   ]
  },
  {
   "cell_type": "markdown",
   "metadata": {
    "id": "OAdaPBuMQmrl"
   },
   "source": [
    "---\n",
    "\n",
    "<span style=\"color:red; font-size:16px;\">\n",
    "\n",
    "Now the final loss stabilizes at around 2.0 for multihead attention LM compared to single head LM. \n",
    "    \n",
    "</span>\n",
    "\n",
    "---"
   ]
  },
  {
   "cell_type": "code",
   "execution_count": 31,
   "metadata": {},
   "outputs": [
    {
     "name": "stdout",
     "output_type": "stream",
     "text": [
      "Current memory allocated on MPS: 75.78 MB\n",
      "Max memory allocated on MPS: 1119.34 MB\n"
     ]
    }
   ],
   "source": [
    "import torch\n",
    "\n",
    "# Check if MPS is available\n",
    "if torch.backends.mps.is_available():\n",
    "    # Get the current memory usage\n",
    "    current_memory_allocated = torch.mps.current_allocated_memory()\n",
    "    max_memory_allocated = torch.mps.driver_allocated_memory()\n",
    "\n",
    "    print(f\"Current memory allocated on MPS: {current_memory_allocated / 1024 ** 2:.2f} MB\")\n",
    "    print(f\"Max memory allocated on MPS: {max_memory_allocated / 1024 ** 2:.2f} MB\")\n",
    "else:\n",
    "    print(\"MPS is not available.\")\n",
    "    \n",
    "torch.mps.empty_cache()"
   ]
  },
  {
   "cell_type": "markdown",
   "metadata": {
    "id": "X9XsUWpwG7uA"
   },
   "source": [
    "### 1.4: The Transformer Architecture: combining attention with deep learning"
   ]
  },
  {
   "cell_type": "code",
   "execution_count": 32,
   "metadata": {
    "id": "1GbGqwKWJzOK"
   },
   "outputs": [],
   "source": [
    "# run this cell to initialize this deep learning module that you should use in the code your write later\n",
    "# you don't need to edit this layer\n",
    "class FeedForward(nn.Module):\n",
    "    \"\"\" \n",
    "    This is applied after the multi-headed attention layer to introduce non-linearity and increase model\n",
    "    capacity\n",
    "    \"\"\"\n",
    "\n",
    "    def __init__(self, embed_size):\n",
    "        super().__init__()\n",
    "        self.net = nn.Sequential(\n",
    "            nn.Linear(embed_size, 4 * embed_size),\n",
    "            nn.ReLU(),\n",
    "            nn.Linear(4 * embed_size, embed_size),\n",
    "        )\n",
    "\n",
    "    def forward(self, x):\n",
    "        return self.net(x)"
   ]
  },
  {
   "cell_type": "markdown",
   "metadata": {
    "id": "WKJxVp6aJb6i"
   },
   "source": [
    "#### Question 1.4.1: Implement a transformer block\n",
    "\n",
    "Complete the code below to implement a transformer block"
   ]
  },
  {
   "cell_type": "markdown",
   "metadata": {
    "id": "8Jw2I6a8IYOi"
   },
   "source": [
    "To make the your implemenation easier to train, we have added two deep learning best practices:\n",
    "\n",
    "1. Residual connections.\n",
    "\n",
    "    In the `forward` method of the `TransformerBlock`, we have implemented a residual connection of the form\n",
    "    \n",
    "    \\begin{align*}\n",
    "    x \\mapsto x + f(x)\n",
    "    \\end{align*}\n",
    "    \n",
    "    where $f$ is a nonlinear function. The idea is that every layer is some adjustment of the identity function, which guards against vanishing gradients in a deep network during back propogation, especially at initialization.\n",
    "\n",
    "2. Prenorm via `LayerNorm`\n",
    "\n",
    "    Also in the `forward` method of the `TransformerBlock`, the nonlinearity first applied a `LayerNorm` to its arguments. The `LayerNorm` basically standardizes the activations in that layer so that they have mean 0 and variance 1. Doing so is very helpful for numerical stability, espeically of the gradients."
   ]
  },
  {
   "cell_type": "code",
   "execution_count": 33,
   "metadata": {
    "id": "hUDbIv9eISkf"
   },
   "outputs": [],
   "source": [
    "class TransformerBlock(nn.Module):\n",
    "    \"\"\" Transformer block: communication across sequence length, followed by communication across embedding space\n",
    "        Uses multi-headed attention\n",
    "    \"\"\"\n",
    "\n",
    "    def __init__(self, vocab_size, context_window_size, embed_size=384, num_heads=6):\n",
    "        super().__init__()\n",
    "        self.ln1 = nn.LayerNorm(embed_size)\n",
    "        self.ln2 = nn.LayerNorm(embed_size)\n",
    "        self.context_window_size = context_window_size\n",
    "\n",
    "        # TODO: your code below\n",
    "        self.feed_forward = FeedForward(embed_size)\n",
    "        self.atten_heads = MultiHeadAttention(context_window_size, embed_size=embed_size, num_heads=num_heads)\n",
    "        \n",
    "    def forward(self, x):\n",
    "        x = x + self.atten_heads(self.ln1(x)) # communication over sequence length\n",
    "        x = x + self.feed_forward(self.ln2(x)) # communication across embedding space\n",
    "        return x"
   ]
  },
  {
   "cell_type": "markdown",
   "metadata": {
    "id": "vqCCiCYcKMD0"
   },
   "source": [
    "#### Question 1.4.2: Implement your baseline transformer model\n",
    "\n",
    "We now stack 6 `TransformerBlocks` (with a final layer norm applied after the blocks but before the logits) to create our basline `TransformerLM`."
   ]
  },
  {
   "cell_type": "code",
   "execution_count": 34,
   "metadata": {
    "id": "t2veTg9N3ufJ"
   },
   "outputs": [],
   "source": [
    "class TransformerLM(nn.Module):\n",
    "\n",
    "    def __init__(self, vocab_size, context_window_size, embed_size=384, num_heads=6, n_layers=6):\n",
    "        \"\"\"\n",
    "          Args:\n",
    "              vocab_size: int, number of tokens in the vocabulary (V)\n",
    "              context_window_size: int, size of the context window (T)\n",
    "              embed_size: int, embedding size (D)\n",
    "              num_heads: int, number of heads (H)\n",
    "              n_layers: int, number of layers (M)\n",
    "        \"\"\"\n",
    "        super().__init__()\n",
    "        self.context_window_size = context_window_size\n",
    "        self.token_embedding_table = nn.Embedding(vocab_size, embed_size)\n",
    "        self.position_embedding_table = nn.Embedding(context_window_size, embed_size)\n",
    "        self.blocks = nn.Sequential(*[\n",
    "            TransformerBlock(vocab_size=vocab_size,\n",
    "                             context_window_size=context_window_size,\n",
    "                             embed_size=embed_size,\n",
    "                             num_heads=num_heads)\n",
    "            for _ in range(n_layers)])\n",
    "\n",
    "        # final layer norm\n",
    "        self.ln_f = nn.LayerNorm(embed_size)\n",
    "        self.lm_head = nn.Linear(embed_size, vocab_size)\n",
    "\n",
    "        # good initialization\n",
    "        self.apply(self._init_weights)\n",
    "\n",
    "    def _init_weights(self, module):\n",
    "        if isinstance(module, nn.Linear):\n",
    "            torch.nn.init.normal_(module.weight, mean=0.0, std=0.02)\n",
    "            if module.bias is not None:\n",
    "                torch.nn.init.zeros_(module.bias)\n",
    "        elif isinstance(module, nn.Embedding):\n",
    "            torch.nn.init.normal_(module.weight, mean=0.0, std=0.02)\n",
    "\n",
    "    def forward(self, token_ids, targets=None):\n",
    "        \"\"\"\n",
    "        Args:\n",
    "            token_ids: tensor of integers, provides the contet, shape (B, T)\n",
    "            targets: tensor of integers, provides the tokens we are preidcitng, shape (B, T)\n",
    "        \"\"\"\n",
    "        B, T = token_ids.shape\n",
    "\n",
    "        # token_ids and targets are both (B, T) tensor of integers\n",
    "        tok_emb = self.token_embedding_table(token_ids) # (B, T, D)\n",
    "        pos_emb = self.position_embedding_table(torch.arange(T, device=device)) # (T, D)\n",
    "        \n",
    "        x = tok_emb + pos_emb # (B, T, D)\n",
    "        x = self.blocks(x) #B, T, D\n",
    "        x = self.ln_f(x) #B, T, D\n",
    "        logits = self.lm_head(x) #B, T, V\n",
    "        \n",
    "        loss = None\n",
    "\n",
    "        if targets is not None:\n",
    "            logits = logits.view(B*T, -1)\n",
    "            targets = targets.view(B*T)\n",
    "            loss = F.cross_entropy(logits, targets)\n",
    "            logits = logits.view(B, T, -1)\n",
    "            targets = targets.view(B, T)\n",
    "   \n",
    "        return logits, loss\n",
    "\n",
    "    @torch.no_grad()\n",
    "    def generate(self, token_ids, max_new_tokens):\n",
    "        \"\"\"\n",
    "        Args:\n",
    "            token_ids: (B, T) tensor of token ids to provide as context\n",
    "            max_new_tokens: int, maximum number of new tokens to generate\n",
    "\n",
    "        Returns:\n",
    "            (B, T + max_new_tokens) tensor of context with new tokens appended\n",
    "        \"\"\"\n",
    "        B, T = token_ids.shape\n",
    "        NLL = torch.zeros((B, 1), device = device)\n",
    "        for _ in range(max_new_tokens):\n",
    "            # Crop to the last context_window_size tokens\n",
    "            current_token_ids = token_ids[:, -self.context_window_size:]  # (B, T)\n",
    "            logits, _ = self(current_token_ids)  # (B, T, V)\n",
    "            logits = logits[:, -1, :]  # (B, V)\n",
    "            probs = F.softmax(logits, dim=-1)  # (B, V)\n",
    "            next_token = torch.multinomial(probs, num_samples=1)  # (B, 1)\n",
    "            generated_prob = torch.gather(probs, 1, next_token) # B, 1\n",
    "            NLL -= torch.log(generated_prob).sum()\n",
    "            token_ids = torch.cat((token_ids, next_token), dim=-1)  # (B, T + 1)\n",
    "        \n",
    "        NLL /= B*max_new_tokens\n",
    "        perplexity = torch.exp(NLL)\n",
    "\n",
    "        return token_ids, perplexity"
   ]
  },
  {
   "cell_type": "markdown",
   "metadata": {
    "id": "JP8430nWKbZ6"
   },
   "source": [
    "Train your `TransformerLM` for `LARGE_ITERS` iterations and plot the loss curve. You may want to change the learning rate.\n",
    "\n",
    "We used a learning rate of `1e-4` and got to a final train loss of around 1.4 in around 15 minutes of training on a T4 GPU."
   ]
  },
  {
   "cell_type": "code",
   "execution_count": 35,
   "metadata": {
    "id": "jsnbDpdhLeKo"
   },
   "outputs": [
    {
     "name": "stderr",
     "output_type": "stream",
     "text": [
      "100%|███████████████████████████████████████| 2000/2000 [15:57<00:00,  2.09it/s]\n"
     ]
    }
   ],
   "source": [
    "trans = TransformerLM(vocab_size, CONTEXT_WINDOW_SIZE)\n",
    "tlm = trans.to(device)\n",
    "learning_rate = 1e-4\n",
    "\n",
    "optimizer = torch.optim.AdamW(trans.parameters(), lr=learning_rate)\n",
    "\n",
    "eval_interval = 200\n",
    "\n",
    "loss_list = []\n",
    "\n",
    "for it in tqdm(range(2000)):\n",
    "\n",
    "#     # every once in a while evaluate the loss on train and val sets\n",
    "#     if it % eval_interval == 0 or it == SMALL_ITERS - 1:\n",
    "#         print(f\"iteration {it}\")\n",
    "#         losses = estimate_loss(m, EVAL_ITERS, CONTEXT_WINDOW_SIZE, device)\n",
    "#         print(f\"step {it}: train loss {losses['train']:.4f}, val loss {losses['val']:.4f}\")\n",
    "\n",
    "    # sample a batch of data\n",
    "    xb, yb = get_batch('train', CONTEXT_WINDOW_SIZE, device)\n",
    "\n",
    "    # evaluate the loss\n",
    "    logits, loss = trans(xb, yb)\n",
    "    loss_list.append(loss.detach().item())\n",
    "    optimizer.zero_grad(set_to_none=True)\n",
    "    loss.backward()\n",
    "    optimizer.step()"
   ]
  },
  {
   "cell_type": "code",
   "execution_count": 36,
   "metadata": {},
   "outputs": [
    {
     "data": {
      "image/png": "[encoded data removed]",
      "text/plain": [
       "<Figure size 640x480 with 1 Axes>"
      ]
     },
     "metadata": {},
     "output_type": "display_data"
    }
   ],
   "source": [
    "# Plot the loss values\n",
    "plt.plot(loss_list, label=\"Transformer Training Loss\")\n",
    "\n",
    "# Add labels and title\n",
    "plt.xlabel(\"Iteration\")\n",
    "plt.ylabel(\"Loss\")\n",
    "plt.title(\"Transformer Training Loss Over Time\")\n",
    "\n",
    "# Add a legend\n",
    "plt.legend()\n",
    "\n",
    "# Show the plot\n",
    "plt.show()"
   ]
  },
  {
   "cell_type": "code",
   "execution_count": 38,
   "metadata": {},
   "outputs": [
    {
     "name": "stdout",
     "output_type": "stream",
     "text": [
      "Current memory allocated on MPS: 648.77 MB\n",
      "Max memory allocated on MPS: 4315.44 MB\n"
     ]
    }
   ],
   "source": [
    "if torch.backends.mps.is_available():\n",
    "    # Get the current memory usage\n",
    "    current_memory_allocated = torch.mps.current_allocated_memory()\n",
    "    max_memory_allocated = torch.mps.driver_allocated_memory()\n",
    "\n",
    "    print(f\"Current memory allocated on MPS: {current_memory_allocated / 1024 ** 2:.2f} MB\")\n",
    "    print(f\"Max memory allocated on MPS: {max_memory_allocated / 1024 ** 2:.2f} MB\")\n",
    "else:\n",
    "    print(\"MPS is not available.\")"
   ]
  },
  {
   "cell_type": "markdown",
   "metadata": {
    "id": "1SYG_iDFSNys"
   },
   "source": [
    "#### Question 1.4.3: Generating text!\n",
    "\n",
    "Now with our trained model, we can generate some text that is somewhat like the style of Shakespeare! Below we will do both unconditional and conditional generation."
   ]
  },
  {
   "cell_type": "code",
   "execution_count": 39,
   "metadata": {
    "id": "-FX-eEZEDH-n"
   },
   "outputs": [
    {
     "name": "stdout",
     "output_type": "stream",
     "text": [
      "\n",
      "First Mades oldier duke a justice and greatess.\n",
      "\n",
      "BELONT:\n",
      "The oppen of the are their were structioners.\n",
      "\n",
      "CORIOLANUS:\n",
      "He mass! Here doth the pleasing of the king?\n",
      "As that Romeo lames! love for swords devils's there.\n",
      "\n",
      "HERRY KING RICHARD VIOUMET:\n",
      "Throw senat!\n",
      "\n",
      "Perplexity is tensor([[3.6246]], device='mps:0')\n"
     ]
    }
   ],
   "source": [
    "# unconditional generation from the model\n",
    "start_context = torch.zeros((1, 1), dtype=torch.long, device=device)\n",
    "uncond_gen, perplexity =  tlm.generate(start_context, max_new_tokens=CONTEXT_WINDOW_SIZE)\n",
    "uncond_gen = uncond_gen[0].tolist()\n",
    "\n",
    "print(decode(uncond_gen))\n",
    "print(f'Perplexity is {perplexity.item()}')"
   ]
  },
  {
   "cell_type": "code",
   "execution_count": 40,
   "metadata": {
    "id": "73du7-sWLH5c"
   },
   "outputs": [],
   "source": [
    "# conditional generation from the model\n",
    "\n",
    "context1 = \"\"\"ROMEO:\n",
    "He jests at scars that never felt a wound.\n",
    "But, soft! what light through yonder window breaks?\n",
    "It is the east, and Juliet is the sun.\n",
    "Arise, fair sun, and kill the envious moon,\n",
    "Who is already sick and pale with grief,\n",
    "That thou her maid art far more fair than she:\n",
    "Be not her maid, \"\"\"\n",
    "\n",
    "context1_tokens = torch.tensor(encode(context1), device=device).reshape(1, -1)"
   ]
  },
  {
   "cell_type": "code",
   "execution_count": 41,
   "metadata": {
    "id": "sZ4zkEJzMNA4"
   },
   "outputs": [
    {
     "name": "stdout",
     "output_type": "stream",
     "text": [
      "ROMEO:\n",
      "He jests at scars that never felt a wound.\n",
      "But, soft! what light through yonder window breaks?\n",
      "It is the east, and Juliet is the sun.\n",
      "Arise, fair sun, and kill the envious moon,\n",
      "Who is already sick and pale with grief,\n",
      "That thou her maid art far more fair than she:\n",
      "Be not her maid, good lord, sink you do no moroaty swer,\n",
      "Bourn not less marriage should for him that hands:\n",
      "I that thou must dooubled than you.\n",
      "\n",
      "DUCHESSS OF YORK:\n",
      "O thousable wors is this deliver disrial.\n",
      "Down for here left me than a mass already\n",
      "Than blood to Carward. Sha\n",
      "Perplexity is 3.6379237174987793\n"
     ]
    }
   ],
   "source": [
    "cond_gen, perplexity = tlm.generate(context1_tokens, max_new_tokens=CONTEXT_WINDOW_SIZE)\n",
    "cond_gen = cond_gen[0].tolist()\n",
    "\n",
    "print(decode(cond_gen))\n",
    "print(f'Perplexity is {perplexity.item()}')"
   ]
  },
  {
   "cell_type": "markdown",
   "metadata": {
    "id": "HdA0IXMh15cc"
   },
   "source": [
    "TODO: Choose your own context from Shakespeare, and perform conditional generation from that text. Does this look reasonable to you? Why or why not?"
   ]
  },
  {
   "cell_type": "code",
   "execution_count": 42,
   "metadata": {
    "id": "cR_0hrAO2Am_"
   },
   "outputs": [],
   "source": [
    "# TODO: your code here\n",
    "\n",
    "context2 = \"\"\"\n",
    "In sooth, I know not why I am so sad:\n",
    "It wearies me; you say it wearies you;\n",
    "But how I caught it, found it, or came by it,\n",
    "What stuff 'tis made of, whereof it is born,\n",
    "I am to learn;\n",
    "And such a want-wit sadness makes of me,\n",
    "That I have much ado to know myself. \"\"\"\n",
    "\n",
    "context2_tokens = torch.tensor(encode(context1), device=device).reshape(1, -1)"
   ]
  },
  {
   "cell_type": "code",
   "execution_count": 43,
   "metadata": {},
   "outputs": [
    {
     "name": "stdout",
     "output_type": "stream",
     "text": [
      "ROMEO:\n",
      "He jests at scars that never felt a wound.\n",
      "But, soft! what light through yonder window breaks?\n",
      "It is the east, and Juliet is the sun.\n",
      "Arise, fair sun, and kill the envious moon,\n",
      "Who is already sick and pale with grief,\n",
      "That thou her maid art far more fair than she:\n",
      "Be not her maid, is not humble knew deligre estranks.\n",
      "\n",
      "STRYgOMN:\n",
      "Comsort of jects,\n",
      "That wes threses we have nees in lefter sir;\n",
      "For his not his known's flike-sament eastxe, fellow cheer\n",
      "whither that bear no lost harfamfule righs us.\n",
      "\n",
      "STANLEY:\n",
      "No! No, I two to the prove to \n",
      "Perplexity is 5.017861843109131\n"
     ]
    }
   ],
   "source": [
    "cond_gen, perplexity = tlm.generate(context2_tokens, max_new_tokens=CONTEXT_WINDOW_SIZE)\n",
    "cond_gen = cond_gen[0].tolist()\n",
    "\n",
    "print(decode(cond_gen))\n",
    "print(f'Perplexity is {perplexity.item()}')"
   ]
  },
  {
   "cell_type": "markdown",
   "metadata": {
    "id": "Caw-RM-J2Chj"
   },
   "source": [
    "---\n",
    "\n",
    "<span style=\"color:red; font-size:16px;\">\n",
    "\n",
    "The generated text certainly sounds shakespearean and has similar structure as Shakespeare's play, and it makes sense as out TransformerML currently achieves the lowest loss among all four models. But upon looking closely, we can see that plenty of words are made-up: this is expected since the model is always trying to predict the next character and it doesn't guarantee whether the resulting word exist of not\n",
    "    \n",
    "</span>\n",
    "\n",
    "---"
   ]
  },
  {
   "cell_type": "markdown",
   "metadata": {
    "id": "LgOzvWFDx_yH"
   },
   "source": [
    "#### Question 1.4.4\n",
    "\n",
    "The negative log-likelihood (averaged per token) we have been using to train our models can be expressed as\n",
    "\\begin{equation*}\n",
    "  L = -\\frac{1}{T} \\sum_{t = 1}^{T} \\log p(s[t] | \\text{context})\n",
    "\\end{equation*}\n",
    "for some document $s$, where $s[t]$ is the $t$th token of the doc. The natural language processing (NLP) community often reports the quantity\n",
    "\\begin{equation*}\n",
    "  \\text{perplexity} = \\exp(L).\n",
    "\\end{equation*}\n",
    "\n",
    "Give an intuitive interpretation of what perplexity is. Why might it be a more intuitive or natual measure to report than negative log-likelihood? Does the reported perplexity of your trained `TransformerLM` model make sense in terms of samples it generates? (Be sure to distinguish betwen `train` and `validation` perplexity. Which of `train` and `val` perplexity is more helpful for understanding your generated samples? Why?). (*Hint: your answer to Question 1.1.6 may be helpful*)."
   ]
  },
  {
   "cell_type": "markdown",
   "metadata": {},
   "source": [
    "---\n",
    "\n",
    "<span style=\"color:red; font-size:16px;\">\n",
    "\n",
    "The training goal is to maximize the Log-Likelihood, which is to minimize both negative LL and perplexity. Also, $exp(L) = exp(-\\frac{1}{T}(logp(s_1) + logp(s_2|s_1, s_0) + ... + log(s_t|s_1 .. s_{t-1})) = (P(s_1)*...*P(s_t|s_0...s_{t-1}))^{-\\frac{1}{T}} = P(s_1 ... s_t)^{-\\frac{1}{T}}$, where context is implicitly assumed to be conditioned upon. My final TransformerML model has the perplexity between 3.5 to 5 on the generated text, which makes sense as I expect the perplexity to be higher than 1\n",
    "    \n",
    "Hence perplexity is the the inverse of $\\frac{1}{T}$ power of the joint probability of the generated text given provided context. Notice that a perfect model would have the joint probability equals to 1, hence perplexity would also be 1. Any other model would have a perplexity higher than 1, with higher perplexity indicating worse model's performance.\n",
    "    \n",
    "Train perplexity indicates how well our LLM fits the training data, but doesn't indicate model's general performance (i.e. a LLM can overfit to training data but does pooly on validation or test) Validation perplexity measures how LLM can generalize on unseen data. Hence validation perplexity is more helpful for understanding our generated samples\n",
    "\n",
    "</span>\n",
    "\n",
    "---"
   ]
  },
  {
   "cell_type": "markdown",
   "metadata": {
    "id": "9Izr1wTOjzlo"
   },
   "source": [
    "## Part 2: Mini-Project"
   ]
  },
  {
   "cell_type": "markdown",
   "metadata": {
    "id": "5lF3jFrQj1f4"
   },
   "source": [
    "Quick recap: So far we have\n",
    "\n",
    "1. Preprocessed the Shakespeare dataset by encoding individual characters into integer tokens.\n",
    "2. Implemented single headed attention and then further generalized to multiheaded attention. We further combined multiheaded attention with deep learning to create the transformer architecture.\n",
    "3. Trained our transformer and generated output that looks to be in the style of Shakespeare.\n",
    "\n",
    "Up to this point, the performance of our simple language model has clearly made a lot of progress. We can see that our model has learned to generate text that is close to the style of Shakespeare, although there are still many quirks and room for improvement.\n",
    "\n",
    "### Project Outline\n",
    "\n",
    "Find some area of possible improvement.\n",
    "We interpret \"improvement\" quite loosely, but please state precisely why your proposed innovation might improve the model, and provide evidence that it does (or does not!) improve.\n",
    "For your idea, **formulate a hypothesis** for why this change should result in a better model. **Implement your changes** and **report any findings**.\n",
    "\n",
    "_Notes_: As this assignment is being treated as a project, you should expect training to take longer than previous assignments. However, please use your judgement to decide what is reasonable. We will not expect you to run training procedures that take more than 2 hours on the free Google Colab computing resources and we certainly do not expect you to acquire additional compute. The proposed improvements should not solely rely on increased computing demands.\n",
    "\n",
    "_Hints_: There are many aspects to assessing a model. For example, not only is quality of generated text important, it is also of interest to reduce costs associated with training.\n",
    "\n",
    "### Deliverables\n",
    "\n",
    "In addition to a pdf of your python notebook, the submission for this project will be a written report no more than 4 pages in length using the [NeurIPS LaTex template](https://neurips.cc/Conferences/2023/PaperInformation/StyleFiles). Your report should include detailed analysis of the hypotheses you chose to test along with any conclusions.\n",
    "\n",
    "The page limit for the report does not include bibliography or appendices. Make sure to keep the \"ready for submission\" option to help us grade anonymously. Your writeup should also contain a link to any code used to generate the project so that we can reference it while grading (Google Drive folder with colab notebooks or Github repo are both fine). You should have at least one plot in your main text (which is capped at 4 pages)."
   ]
  },
  {
   "cell_type": "markdown",
   "metadata": {
    "id": "Z7f7wY9I9jSF"
   },
   "source": [
    "## Submission Instructions\n",
    "\n",
    "You will generate two PDFs: one from Part 1, which involves completing this Colab to create a transformer baseline; and one from the mini-project in Part 2, which will be your write-up of no longer than 4 pages. Be sure to include a link to your code for Part 2 somewhere in your writeup.\n",
    "\n",
    "**Combine the two PDFs into a single PDF and submit on gradescope. Tag your PDF correctly.**\n",
    "\n",
    "If you work in a group of two, submit one assignment on gradescope and tag your group members. If you complete the assignment individually, submit as usual."
   ]
  }
 ],
 "metadata": {
  "accelerator": "GPU",
  "colab": {
   "gpuType": "T4",
   "provenance": []
  },
  "kernelspec": {
   "display_name": "Python 3 (ipykernel)",
   "language": "python",
   "name": "python3"
  },
  "language_info": {
   "codemirror_mode": {
    "name": "ipython",
    "version": 3
   },
   "file_extension": ".py",
   "mimetype": "text/x-python",
   "name": "python",
   "nbconvert_exporter": "python",
   "pygments_lexer": "ipython3",
   "version": "3.11.4"
  }
 },
 "nbformat": 4,
 "nbformat_minor": 1
}
